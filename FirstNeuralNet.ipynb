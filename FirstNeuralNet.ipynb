{
  "nbformat": 4,
  "nbformat_minor": 0,
  "metadata": {
    "colab": {
      "name": "Untitled0.ipynb",
      "version": "0.3.2",
      "provenance": [],
      "collapsed_sections": [],
      "include_colab_link": true
    },
    "kernelspec": {
      "name": "python3",
      "display_name": "Python 3"
    }
  },
  "cells": [
    {
      "cell_type": "markdown",
      "metadata": {
        "id": "view-in-github",
        "colab_type": "text"
      },
      "source": [
        "<a href=\"https://colab.research.google.com/github/miguelpantoja89/Python-neural_net/blob/master/FirstNeuralNet.ipynb\" target=\"_parent\"><img src=\"https://colab.research.google.com/assets/colab-badge.svg\" alt=\"Open In Colab\"/></a>"
      ]
    },
    {
      "cell_type": "code",
      "metadata": {
        "id": "lOKsRO3axazQ",
        "colab_type": "code",
        "colab": {}
      },
      "source": [
        "import numpy as np\n",
        "import scipy as sc\n",
        "import matplotlib.pyplot as plt\n",
        "\n",
        "from sklearn.datasets import make_circles"
      ],
      "execution_count": 0,
      "outputs": []
    },
    {
      "cell_type": "code",
      "metadata": {
        "id": "pG17UWWIzfu6",
        "colab_type": "code",
        "colab": {
          "base_uri": "https://localhost:8080/",
          "height": 269
        },
        "outputId": "97e5976a-607e-4647-85c1-184c3ea87ca8"
      },
      "source": [
        "#crear el dataset\n",
        "\n",
        "n = 500 #registros\n",
        "p = 2  #atributos\n",
        "\n",
        "\n",
        "X,Y= make_circles(n_samples=n, factor=0.5, noise= 0.05)\n",
        "\n",
        "plt.scatter(X[Y == 0,0], X[Y == 0,1], c='skyblue')\n",
        "plt.scatter(X[Y == 1,0], X[Y == 1,1], c='salmon')\n",
        "plt.axis('equal')\n",
        "plt.show()"
      ],
      "execution_count": 14,
      "outputs": [
        {
          "output_type": "display_data",
          "data": {
            "image/png": "[encoded data removed]",
            "text/plain": [
              "<Figure size 432x288 with 1 Axes>"
            ]
          },
          "metadata": {
            "tags": []
          }
        }
      ]
    },
    {
      "cell_type": "code",
      "metadata": {
        "id": "a6fG90JU2wwv",
        "colab_type": "code",
        "colab": {}
      },
      "source": [
        "#clase de la capa de la red\n",
        "\n",
        "\n",
        "class neural_layer:\n",
        "  \n",
        "  def __init__(self,n_conn, n_neur,act_f):\n",
        "    self.act_f= act_f\n",
        "    self.b=np.random.rand(1, n_neur) * 2 - 1  #para que vaya de -1 a 1 esto es un vector\n",
        "    self.W=np.random.rand(n_conn, n_neur) * 2 - 1 #esto es una matriz"
      ],
      "execution_count": 0,
      "outputs": []
    },
    {
      "cell_type": "code",
      "metadata": {
        "id": "BgYdrxZD4mL6",
        "colab_type": "code",
        "colab": {
          "base_uri": "https://localhost:8080/",
          "height": 286
        },
        "outputId": "3d35bb05-d935-479d-f6b7-21e3ca4da430"
      },
      "source": [
        "#funciones de activacion\n",
        "#usamos la funcion sigmoid\n",
        "sigm= (lambda x: 1/ (1+ np.e ** (-x)),\n",
        "      lambda x: x * (1-x))\n",
        "_x= np.linspace(-5,5,100)\n",
        "plt.plot(_x, sigm[0](_x))"
      ],
      "execution_count": 42,
      "outputs": [
        {
          "output_type": "execute_result",
          "data": {
            "text/plain": [
              "[<matplotlib.lines.Line2D at 0x7ffafefe0e48>]"
            ]
          },
          "metadata": {
            "tags": []
          },
          "execution_count": 42
        },
        {
          "output_type": "display_data",
          "data": {
            "image/png": "[encoded data removed]",
            "text/plain": [
              "<Figure size 432x288 with 1 Axes>"
            ]
          },
          "metadata": {
            "tags": []
          }
        }
      ]
    },
    {
      "cell_type": "code",
      "metadata": {
        "id": "h2ewXt4z-qzl",
        "colab_type": "code",
        "colab": {}
      },
      "source": [
        "# CREAMOS LA RED NEURONAL\n",
        "\n",
        "l0 = neural_layer(p, 4, sigm)\n",
        "l1 = neural_layer(4, 8, sigm)\n",
        "# ...\n",
        "\n",
        "def create_nn(topology, act_f):\n",
        "  \n",
        "  nn = []\n",
        "  \n",
        "  for l, layer in enumerate(topology[:-1]):\n",
        "    \n",
        "    nn.append(neural_layer(topology[l], topology[l+1], act_f))\n",
        "    \n",
        "  return nn"
      ],
      "execution_count": 0,
      "outputs": []
    },
    {
      "cell_type": "code",
      "metadata": {
        "id": "TM8yuF06D5t3",
        "colab_type": "code",
        "colab": {}
      },
      "source": [
        "# FUNCION DE ENTRENAMIENTO\n",
        "\n",
        "topology = [p, 4, 8, 1]\n",
        "\n",
        "neural_net = create_nn(topology, sigm)  \n",
        "\n",
        "l2_cost = (lambda Yp, Yr: np.mean((Yp - Yr) ** 2),\n",
        "           lambda Yp, Yr: (Yp - Yr))\n",
        "\n",
        "\n",
        "\n",
        "def train(neural_net, X, Y, l2_cost, lr=0.5, train=True):\n",
        "  \n",
        "  out = [(None, X)]\n",
        "  \n",
        "  # Forward pass\n",
        "  for l, layer in enumerate(neural_net):\n",
        "  \n",
        "    z = out[-1][1] @ neural_net[l].W + neural_net[l].b\n",
        "    a = neural_net[l].act_f[0](z)\n",
        "  \n",
        "    out.append((z, a))\n",
        "    \n",
        "  \n",
        "  if train:\n",
        "    \n",
        "    # Backward pass \n",
        "    deltas = []\n",
        "    \n",
        "    for l in reversed(range(0, len(neural_net))):\n",
        "      \n",
        "      z = out[l+1][0]\n",
        "      a = out[l+1][1]\n",
        "      \n",
        "      if l == len(neural_net) - 1:\n",
        "        deltas.insert(0, l2_cost[1](a, Y) * neural_net[l].act_f[1](a))\n",
        "      else:\n",
        "        deltas.insert(0, deltas[0] @ _W.T * neural_net[l].act_f[1](a))\n",
        "       \n",
        "      _W = neural_net[l].W\n",
        " \n",
        "      # Gradient descent\n",
        "      neural_net[l].b = neural_net[l].b - np.mean(deltas[0], axis=0, keepdims=True) * lr   \n",
        "      neural_net[l].W = neural_net[l].W - out[l][1].T @ deltas[0] * lr\n",
        "      \n",
        "  return out[-1][1]"
      ],
      "execution_count": 0,
      "outputs": []
    },
    {
      "cell_type": "code",
      "metadata": {
        "id": "N22mxXcLHolr",
        "colab_type": "code",
        "colab": {
          "base_uri": "https://localhost:8080/",
          "height": 350
        },
        "outputId": "fda36ced-906c-4531-aa4c-4b2468c7da69"
      },
      "source": [
        "# VISUALIZACIÓN Y TEST\n",
        "\n",
        "import time\n",
        "from IPython.display import clear_output\n",
        "\n",
        "neural_n = create_nn(topology, sigm)\n",
        "\n",
        "loss = []\n",
        "\n",
        "for i in range(2500):\n",
        "    \n",
        "  # Entrenemos a la red!\n",
        "  pY = train(neural_n, X, Y, l2_cost, lr=0.05)\n",
        "  \n",
        "  if i % 25 == 0:\n",
        "    \n",
        "    print(pY)\n",
        "  \n",
        "    loss.append(l2_cost[0](pY, Y))\n",
        "  \n",
        "    res = 50\n",
        "\n",
        "    _x0 = np.linspace(-1.5, 1.5, res)\n",
        "    _x1 = np.linspace(-1.5, 1.5, res)\n",
        "\n",
        "    _Y = np.zeros((res, res))\n",
        "\n",
        "    for i0, x0 in enumerate(_x0):\n",
        "      for i1, x1 in enumerate(_x1):\n",
        "        _Y[i0, i1] = train(neural_n, np.array([[x0, x1]]), Y, l2_cost, train=False)[0][0]    \n",
        "\n",
        "    plt.pcolormesh(_x0, _x1, _Y, cmap=\"coolwarm\")\n",
        "    plt.axis(\"equal\")\n",
        "\n",
        "    plt.scatter(X[Y[:,0] == 0, 0], X[Y[:,0] == 0, 1], c=\"skyblue\")\n",
        "    plt.scatter(X[Y[:,0] == 1, 0], X[Y[:,0] == 1, 1], c=\"salmon\")\n",
        "\n",
        "    clear_output(wait=True)\n",
        "    plt.show()\n",
        "    plt.plot(range(len(loss)), loss)\n",
        "    plt.show()\n",
        "    time.sleep(0.5)"
      ],
      "execution_count": 58,
      "outputs": [
        {
          "output_type": "error",
          "ename": "ValueError",
          "evalue": "ignored",
          "traceback": [
            "\u001b[0;31m---------------------------------------------------------------------------\u001b[0m",
            "\u001b[0;31mValueError\u001b[0m                                Traceback (most recent call last)",
            "\u001b[0;32m<ipython-input-58-fa3b07e5fe23>\u001b[0m in \u001b[0;36m<module>\u001b[0;34m()\u001b[0m\n\u001b[1;32m     10\u001b[0m \u001b[0;34m\u001b[0m\u001b[0m\n\u001b[1;32m     11\u001b[0m   \u001b[0;31m# Entrenemos a la red!\u001b[0m\u001b[0;34m\u001b[0m\u001b[0;34m\u001b[0m\u001b[0;34m\u001b[0m\u001b[0m\n\u001b[0;32m---> 12\u001b[0;31m   \u001b[0mpY\u001b[0m \u001b[0;34m=\u001b[0m \u001b[0mtrain\u001b[0m\u001b[0;34m(\u001b[0m\u001b[0mneural_n\u001b[0m\u001b[0;34m,\u001b[0m \u001b[0mX\u001b[0m\u001b[0;34m,\u001b[0m \u001b[0mY\u001b[0m\u001b[0;34m,\u001b[0m \u001b[0ml2_cost\u001b[0m\u001b[0;34m,\u001b[0m \u001b[0mlr\u001b[0m\u001b[0;34m=\u001b[0m\u001b[0;36m0.05\u001b[0m\u001b[0;34m)\u001b[0m\u001b[0;34m\u001b[0m\u001b[0;34m\u001b[0m\u001b[0m\n\u001b[0m\u001b[1;32m     13\u001b[0m \u001b[0;34m\u001b[0m\u001b[0m\n\u001b[1;32m     14\u001b[0m   \u001b[0;32mif\u001b[0m \u001b[0mi\u001b[0m \u001b[0;34m%\u001b[0m \u001b[0;36m25\u001b[0m \u001b[0;34m==\u001b[0m \u001b[0;36m0\u001b[0m\u001b[0;34m:\u001b[0m\u001b[0;34m\u001b[0m\u001b[0;34m\u001b[0m\u001b[0m\n",
            "\u001b[0;32m<ipython-input-57-c3a56d92de4e>\u001b[0m in \u001b[0;36mtrain\u001b[0;34m(neural_net, X, Y, l2_cost, lr, train)\u001b[0m\n\u001b[1;32m     35\u001b[0m         \u001b[0mdeltas\u001b[0m\u001b[0;34m.\u001b[0m\u001b[0minsert\u001b[0m\u001b[0;34m(\u001b[0m\u001b[0;36m0\u001b[0m\u001b[0;34m,\u001b[0m \u001b[0ml2_cost\u001b[0m\u001b[0;34m[\u001b[0m\u001b[0;36m1\u001b[0m\u001b[0;34m]\u001b[0m\u001b[0;34m(\u001b[0m\u001b[0ma\u001b[0m\u001b[0;34m,\u001b[0m \u001b[0mY\u001b[0m\u001b[0;34m)\u001b[0m \u001b[0;34m*\u001b[0m \u001b[0mneural_net\u001b[0m\u001b[0;34m[\u001b[0m\u001b[0ml\u001b[0m\u001b[0;34m]\u001b[0m\u001b[0;34m.\u001b[0m\u001b[0mact_f\u001b[0m\u001b[0;34m[\u001b[0m\u001b[0;36m1\u001b[0m\u001b[0;34m]\u001b[0m\u001b[0;34m(\u001b[0m\u001b[0ma\u001b[0m\u001b[0;34m)\u001b[0m\u001b[0;34m)\u001b[0m\u001b[0;34m\u001b[0m\u001b[0;34m\u001b[0m\u001b[0m\n\u001b[1;32m     36\u001b[0m       \u001b[0;32melse\u001b[0m\u001b[0;34m:\u001b[0m\u001b[0;34m\u001b[0m\u001b[0;34m\u001b[0m\u001b[0m\n\u001b[0;32m---> 37\u001b[0;31m         \u001b[0mdeltas\u001b[0m\u001b[0;34m.\u001b[0m\u001b[0minsert\u001b[0m\u001b[0;34m(\u001b[0m\u001b[0;36m0\u001b[0m\u001b[0;34m,\u001b[0m \u001b[0mdeltas\u001b[0m\u001b[0;34m[\u001b[0m\u001b[0;36m0\u001b[0m\u001b[0;34m]\u001b[0m \u001b[0;34m@\u001b[0m \u001b[0m_W\u001b[0m\u001b[0;34m.\u001b[0m\u001b[0mT\u001b[0m \u001b[0;34m*\u001b[0m \u001b[0mneural_net\u001b[0m\u001b[0;34m[\u001b[0m\u001b[0ml\u001b[0m\u001b[0;34m]\u001b[0m\u001b[0;34m.\u001b[0m\u001b[0mact_f\u001b[0m\u001b[0;34m[\u001b[0m\u001b[0;36m1\u001b[0m\u001b[0;34m]\u001b[0m\u001b[0;34m(\u001b[0m\u001b[0ma\u001b[0m\u001b[0;34m)\u001b[0m\u001b[0;34m)\u001b[0m\u001b[0;34m\u001b[0m\u001b[0;34m\u001b[0m\u001b[0m\n\u001b[0m\u001b[1;32m     38\u001b[0m \u001b[0;34m\u001b[0m\u001b[0m\n\u001b[1;32m     39\u001b[0m       \u001b[0m_W\u001b[0m \u001b[0;34m=\u001b[0m \u001b[0mneural_net\u001b[0m\u001b[0;34m[\u001b[0m\u001b[0ml\u001b[0m\u001b[0;34m]\u001b[0m\u001b[0;34m.\u001b[0m\u001b[0mW\u001b[0m\u001b[0;34m\u001b[0m\u001b[0;34m\u001b[0m\u001b[0m\n",
            "\u001b[0;31mValueError\u001b[0m: matmul: Input operand 1 has a mismatch in its core dimension 0, with gufunc signature (n?,k),(k,m?)->(n?,m?) (size 1 is different from 500)"
          ]
        }
      ]
    }
  ]
}